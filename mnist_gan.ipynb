{
  "nbformat": 4,
  "nbformat_minor": 0,
  "metadata": {
    "colab": {
      "provenance": [],
      "gpuType": "T4"
    },
    "kernelspec": {
      "name": "python3",
      "display_name": "Python 3"
    },
    "language_info": {
      "name": "python"
    },
    "accelerator": "GPU"
  },
  "cells": [
    {
      "cell_type": "markdown",
      "metadata": {
        "id": "747c715f"
      },
      "source": [
        "# Task\n",
        "Generate handwritten digits from the MNIST dataset using a TensorFlow GAN model."
      ]
    },
    {
      "cell_type": "markdown",
      "metadata": {
        "id": "c87a94bc"
      },
      "source": [
        "## Load and preprocess data\n",
        "\n",
        "### Subtask:\n",
        "Load the MNIST dataset and preprocess the images for the GAN model.\n"
      ]
    },
    {
      "cell_type": "markdown",
      "metadata": {
        "id": "91836145"
      },
      "source": [
        "**Reasoning**:\n",
        "Load and preprocess the MNIST dataset, then create, shuffle, and batch a TensorFlow Dataset.\n",
        "\n"
      ]
    },
    {
      "cell_type": "code",
      "metadata": {
        "colab": {
          "base_uri": "https://localhost:8080/"
        },
        "id": "5b4969eb",
        "outputId": "b007dc7a-8548-4a26-bcc9-c1903b1b2faa"
      },
      "source": [
        "import tensorflow as tf\n",
        "\n",
        "# Load the MNIST dataset\n",
        "(train_images, train_labels), (test_images, test_labels) = tf.keras.datasets.mnist.load_data()\n",
        "\n",
        "# Preprocess the training images\n",
        "train_images = train_images.reshape(train_images.shape[0], 28, 28, 1).astype('float32')\n",
        "train_images = (train_images - 127.5) / 127.5  # Scale the images to be in the range of -1 to 1\n",
        "\n",
        "# Create a TensorFlow Dataset\n",
        "BUFFER_SIZE = 60000\n",
        "BATCH_SIZE = 256\n",
        "train_dataset = tf.data.Dataset.from_tensor_slices(train_images).shuffle(BUFFER_SIZE).batch(BATCH_SIZE)"
      ],
      "execution_count": 7,
      "outputs": [
        {
          "output_type": "stream",
          "name": "stdout",
          "text": [
            "Downloading data from https://storage.googleapis.com/tensorflow/tf-keras-datasets/mnist.npz\n",
            "\u001b[1m11490434/11490434\u001b[0m \u001b[32m━━━━━━━━━━━━━━━━━━━━\u001b[0m\u001b[37m\u001b[0m \u001b[1m0s\u001b[0m 0us/step\n"
          ]
        }
      ]
    },
    {
      "cell_type": "markdown",
      "metadata": {
        "id": "589f91e4"
      },
      "source": [
        "## Define the models\n",
        "\n",
        "### Subtask:\n",
        "Define the generator and discriminator models for the GAN.\n"
      ]
    },
    {
      "cell_type": "markdown",
      "metadata": {
        "id": "c3211add"
      },
      "source": [
        "**Reasoning**:\n",
        "Define the generator and discriminator models as instructed.\n",
        "\n"
      ]
    },
    {
      "cell_type": "code",
      "metadata": {
        "colab": {
          "base_uri": "https://localhost:8080/"
        },
        "id": "401375d0",
        "outputId": "7a724513-c2ed-4247-e605-d2464dc1ea9a"
      },
      "source": [
        "def make_generator_model():\n",
        "    model = tf.keras.Sequential()\n",
        "    model.add(tf.keras.layers.Dense(7*7*256, use_bias=False, input_shape=(noise_dim,)))\n",
        "    model.add(tf.keras.layers.BatchNormalization())\n",
        "    model.add(tf.keras.layers.LeakyReLU())\n",
        "\n",
        "    model.add(tf.keras.layers.Reshape((7, 7, 256)))\n",
        "    assert model.output_shape == (None, 7, 7, 256)  # Note: None is the batch size\n",
        "\n",
        "    model.add(tf.keras.layers.Conv2DTranspose(128, (5, 5), strides=(1, 1), padding='same', use_bias=False))\n",
        "    assert model.output_shape == (None, 7, 7, 128)\n",
        "    model.add(tf.keras.layers.BatchNormalization())\n",
        "    model.add(tf.keras.layers.LeakyReLU())\n",
        "\n",
        "    model.add(tf.keras.layers.Conv2DTranspose(64, (5, 5), strides=(2, 2), padding='same', use_bias=False))\n",
        "    assert model.output_shape == (None, 14, 14, 64)\n",
        "    model.add(tf.keras.layers.BatchNormalization())\n",
        "    model.add(tf.keras.layers.LeakyReLU())\n",
        "\n",
        "    model.add(tf.keras.layers.Conv2DTranspose(1, (5, 5), strides=(2, 2), padding='same', use_bias=False, activation='tanh'))\n",
        "    assert model.output_shape == (None, 28, 28, 1)\n",
        "\n",
        "    return model\n",
        "\n",
        "def make_discriminator_model():\n",
        "    model = tf.keras.Sequential()\n",
        "    model.add(tf.keras.layers.Conv2D(64, (5, 5), strides=(2, 2), padding='same',\n",
        "                                     input_shape=[28, 28, 1]))\n",
        "    model.add(tf.keras.layers.LeakyReLU())\n",
        "    model.add(tf.keras.layers.Dropout(0.3))\n",
        "\n",
        "    model.add(tf.keras.layers.Conv2D(128, (5, 5), strides=(2, 2), padding='same'))\n",
        "    model.add(tf.keras.layers.LeakyReLU())\n",
        "    model.add(tf.keras.layers.Dropout(0.3))\n",
        "\n",
        "    model.add(tf.keras.layers.Flatten())\n",
        "    model.add(tf.keras.layers.Dense(1))\n",
        "\n",
        "    return model\n",
        "\n",
        "generator = make_generator_model()\n",
        "discriminator = make_discriminator_model()"
      ],
      "execution_count": 8,
      "outputs": [
        {
          "output_type": "stream",
          "name": "stderr",
          "text": [
            "/usr/local/lib/python3.11/dist-packages/keras/src/layers/core/dense.py:87: UserWarning: Do not pass an `input_shape`/`input_dim` argument to a layer. When using Sequential models, prefer using an `Input(shape)` object as the first layer in the model instead.\n",
            "  super().__init__(activity_regularizer=activity_regularizer, **kwargs)\n",
            "/usr/local/lib/python3.11/dist-packages/keras/src/layers/convolutional/base_conv.py:107: UserWarning: Do not pass an `input_shape`/`input_dim` argument to a layer. When using Sequential models, prefer using an `Input(shape)` object as the first layer in the model instead.\n",
            "  super().__init__(activity_regularizer=activity_regularizer, **kwargs)\n"
          ]
        }
      ]
    },
    {
      "cell_type": "markdown",
      "metadata": {
        "id": "30561d17"
      },
      "source": [
        "## Define the loss and optimizers\n",
        "\n",
        "### Subtask:\n",
        "Define the loss functions and optimizers for both the generator and discriminator.\n"
      ]
    },
    {
      "cell_type": "markdown",
      "metadata": {
        "id": "265c1f89"
      },
      "source": [
        "**Reasoning**:\n",
        "Define the binary cross-entropy loss function and the Adam optimizers for both the generator and discriminator, and create a fixed noise vector.\n",
        "\n"
      ]
    },
    {
      "cell_type": "code",
      "metadata": {
        "id": "76275488"
      },
      "source": [
        "cross_entropy = tf.keras.losses.BinaryCrossentropy(from_logits=True)\n",
        "\n",
        "generator_optimizer = tf.keras.optimizers.Adam(1e-4)\n",
        "discriminator_optimizer = tf.keras.optimizers.Adam(1e-4)\n",
        "\n",
        "# We will reuse this seed in the training loop to visualize progress\n",
        "seed = tf.random.normal([num_examples_to_generate, noise_dim])"
      ],
      "execution_count": 9,
      "outputs": []
    },
    {
      "cell_type": "markdown",
      "metadata": {
        "id": "fad4194a"
      },
      "source": [
        "## Define the training loop\n",
        "\n",
        "### Subtask:\n",
        "Define the training loop for the GAN.\n"
      ]
    },
    {
      "cell_type": "markdown",
      "metadata": {
        "id": "f94068cb"
      },
      "source": [
        "**Reasoning**:\n",
        "Define the discriminator loss, generator loss, and the train step function as per the instructions.\n",
        "\n"
      ]
    },
    {
      "cell_type": "code",
      "metadata": {
        "id": "a209bb97"
      },
      "source": [
        "@tf.function\n",
        "def discriminator_loss(real_output, fake_output):\n",
        "    real_loss = cross_entropy(tf.ones_like(real_output), real_output)\n",
        "    fake_loss = cross_entropy(tf.zeros_like(fake_output), fake_output)\n",
        "    total_loss = real_loss + fake_loss\n",
        "    return total_loss\n",
        "\n",
        "@tf.function\n",
        "def generator_loss(fake_output):\n",
        "    return cross_entropy(tf.ones_like(fake_output), fake_output)\n",
        "\n",
        "@tf.function\n",
        "def train_step(images):\n",
        "    noise = tf.random.normal([BATCH_SIZE, noise_dim])\n",
        "\n",
        "    with tf.GradientTape() as gen_tape:\n",
        "        generated_images = generator(noise, training=True)\n",
        "        fake_output = discriminator(generated_images, training=True)\n",
        "        gen_loss = generator_loss(fake_output)\n",
        "\n",
        "    with tf.GradientTape() as disc_tape:\n",
        "        real_output = discriminator(images, training=True)\n",
        "        fake_output = discriminator(generated_images, training=True)\n",
        "        disc_loss = discriminator_loss(real_output, fake_output)\n",
        "\n",
        "    gradients_of_generator = gen_tape.gradient(gen_loss, generator.trainable_variables)\n",
        "    gradients_of_discriminator = disc_tape.gradient(disc_loss, discriminator.trainable_variables)\n",
        "\n",
        "    generator_optimizer.apply_gradients(zip(gradients_of_generator, generator.trainable_variables))\n",
        "    discriminator_optimizer.apply_gradients(zip(gradients_of_discriminator, discriminator.trainable_variables))"
      ],
      "execution_count": 10,
      "outputs": []
    },
    {
      "cell_type": "markdown",
      "metadata": {
        "id": "a823c978"
      },
      "source": [
        "**Reasoning**:\n",
        "Define the `generate_and_save_images` function as per the instructions.\n",
        "\n"
      ]
    },
    {
      "cell_type": "code",
      "metadata": {
        "id": "38082a44"
      },
      "source": [
        "import matplotlib.pyplot as plt\n",
        "import numpy as np\n",
        "import os\n",
        "\n",
        "def generate_and_save_images(model, epoch, test_input):\n",
        "  # Notice `training` is set to False.\n",
        "  # This is so all layers run in inference mode (batchnorm).\n",
        "  predictions = model(test_input, training=False)\n",
        "\n",
        "  fig = plt.figure(figsize=(4, 4))\n",
        "\n",
        "  for i in range(predictions.shape[0]):\n",
        "      plt.subplot(4, 4, i+1)\n",
        "      plt.imshow(predictions[i, :, :, 0] * 127.5 + 127.5, cmap='gray')\n",
        "      plt.axis('off')\n",
        "\n",
        "  # Create a directory for saving images if it doesn't exist\n",
        "  if not os.path.exists('generated_images'):\n",
        "      os.makedirs('generated_images')\n",
        "\n",
        "  plt.savefig('generated_images/image_at_epoch_{:04d}.png'.format(epoch))\n",
        "  plt.close(fig)"
      ],
      "execution_count": 11,
      "outputs": []
    },
    {
      "cell_type": "markdown",
      "metadata": {
        "id": "cad741df"
      },
      "source": [
        "## Train the model\n",
        "\n",
        "### Subtask:\n",
        "Train the GAN model.\n"
      ]
    },
    {
      "cell_type": "markdown",
      "metadata": {
        "id": "2593f7b9"
      },
      "source": [
        "**Reasoning**:\n",
        "Define the `train` function to loop through epochs and batches, calling `train_step` and `generate_and_save_images` as specified in the instructions, then call the `train` function to start training.\n",
        "\n"
      ]
    },
    {
      "cell_type": "code",
      "metadata": {
        "colab": {
          "base_uri": "https://localhost:8080/"
        },
        "id": "617fb39d",
        "outputId": "323a9260-3d7c-4402-ee4d-f15b2feda33f"
      },
      "source": [
        "import time\n",
        "\n",
        "def train(dataset, epochs, test_input):\n",
        "  for epoch in range(epochs):\n",
        "    start = time.time()\n",
        "\n",
        "    for image_batch in dataset:\n",
        "      train_step(image_batch)\n",
        "\n",
        "    # Produce images for the GIF as we go\n",
        "    generate_and_save_images(generator,\n",
        "                             epoch + 1,\n",
        "                             test_input)\n",
        "\n",
        "    # Save the model every 15 epochs\n",
        "    # if (epoch + 1) % 15 == 0:\n",
        "    #   checkpoint.save(file_prefix = checkpoint_prefix)\n",
        "\n",
        "    print ('Time for epoch {} is {} sec'.format(epoch + 1, time.time()-start))\n",
        "\n",
        "  # Generate after the final epoch\n",
        "  generate_and_save_images(generator,\n",
        "                           epochs,\n",
        "                           test_input)\n",
        "\n",
        "train(train_dataset, 50, seed)"
      ],
      "execution_count": 12,
      "outputs": [
        {
          "output_type": "stream",
          "name": "stdout",
          "text": [
            "Time for epoch 1 is 21.044180631637573 sec\n",
            "Time for epoch 2 is 12.751901388168335 sec\n",
            "Time for epoch 3 is 12.487675189971924 sec\n",
            "Time for epoch 4 is 12.489747762680054 sec\n",
            "Time for epoch 5 is 12.463342666625977 sec\n",
            "Time for epoch 6 is 12.342325448989868 sec\n",
            "Time for epoch 7 is 12.671638011932373 sec\n",
            "Time for epoch 8 is 12.482880115509033 sec\n",
            "Time for epoch 9 is 12.471685886383057 sec\n",
            "Time for epoch 10 is 12.449801206588745 sec\n",
            "Time for epoch 11 is 12.401753664016724 sec\n",
            "Time for epoch 12 is 12.455595254898071 sec\n",
            "Time for epoch 13 is 12.492451429367065 sec\n",
            "Time for epoch 14 is 12.942241191864014 sec\n",
            "Time for epoch 15 is 12.470689296722412 sec\n",
            "Time for epoch 16 is 12.439144849777222 sec\n",
            "Time for epoch 17 is 12.418204545974731 sec\n",
            "Time for epoch 18 is 12.416635274887085 sec\n",
            "Time for epoch 19 is 12.395501852035522 sec\n",
            "Time for epoch 20 is 12.392804622650146 sec\n",
            "Time for epoch 21 is 12.38857364654541 sec\n",
            "Time for epoch 22 is 12.383751630783081 sec\n",
            "Time for epoch 23 is 12.387598752975464 sec\n",
            "Time for epoch 24 is 12.769307374954224 sec\n",
            "Time for epoch 25 is 12.38569712638855 sec\n",
            "Time for epoch 26 is 12.377835988998413 sec\n",
            "Time for epoch 27 is 12.39886736869812 sec\n",
            "Time for epoch 28 is 12.405136346817017 sec\n",
            "Time for epoch 29 is 12.406896829605103 sec\n",
            "Time for epoch 30 is 12.383237600326538 sec\n",
            "Time for epoch 31 is 12.379271030426025 sec\n",
            "Time for epoch 32 is 12.398561000823975 sec\n",
            "Time for epoch 33 is 12.400847911834717 sec\n",
            "Time for epoch 34 is 12.392430543899536 sec\n",
            "Time for epoch 35 is 12.395589828491211 sec\n",
            "Time for epoch 36 is 12.997602701187134 sec\n",
            "Time for epoch 37 is 12.508867263793945 sec\n",
            "Time for epoch 38 is 12.522631645202637 sec\n",
            "Time for epoch 39 is 12.538031339645386 sec\n",
            "Time for epoch 40 is 12.438431739807129 sec\n",
            "Time for epoch 41 is 12.414149761199951 sec\n",
            "Time for epoch 42 is 12.422903060913086 sec\n",
            "Time for epoch 43 is 12.453463792800903 sec\n",
            "Time for epoch 44 is 12.423401832580566 sec\n",
            "Time for epoch 45 is 12.400865077972412 sec\n",
            "Time for epoch 46 is 12.398855924606323 sec\n",
            "Time for epoch 47 is 12.413219451904297 sec\n",
            "Time for epoch 48 is 12.37549638748169 sec\n",
            "Time for epoch 49 is 12.381730318069458 sec\n",
            "Time for epoch 50 is 13.015780687332153 sec\n",
            "Time for epoch 51 is 12.373555660247803 sec\n",
            "Time for epoch 52 is 12.396533727645874 sec\n",
            "Time for epoch 53 is 12.411876440048218 sec\n",
            "Time for epoch 54 is 12.402446746826172 sec\n",
            "Time for epoch 55 is 12.410840034484863 sec\n",
            "Time for epoch 56 is 12.424482345581055 sec\n",
            "Time for epoch 57 is 12.423177719116211 sec\n",
            "Time for epoch 58 is 12.409209489822388 sec\n",
            "Time for epoch 59 is 12.428822994232178 sec\n",
            "Time for epoch 60 is 12.43960976600647 sec\n",
            "Time for epoch 61 is 12.518305540084839 sec\n",
            "Time for epoch 62 is 12.502198696136475 sec\n",
            "Time for epoch 63 is 12.51818299293518 sec\n",
            "Time for epoch 64 is 12.44589614868164 sec\n",
            "Time for epoch 65 is 12.399949312210083 sec\n",
            "Time for epoch 66 is 12.39520001411438 sec\n",
            "Time for epoch 67 is 12.39056921005249 sec\n",
            "Time for epoch 68 is 12.40666937828064 sec\n",
            "Time for epoch 69 is 13.18604040145874 sec\n",
            "Time for epoch 70 is 12.41517162322998 sec\n",
            "Time for epoch 71 is 12.388917684555054 sec\n",
            "Time for epoch 72 is 12.413066387176514 sec\n",
            "Time for epoch 73 is 12.402441263198853 sec\n",
            "Time for epoch 74 is 12.405032634735107 sec\n",
            "Time for epoch 75 is 12.43091607093811 sec\n",
            "Time for epoch 76 is 12.402040243148804 sec\n",
            "Time for epoch 77 is 12.410881519317627 sec\n",
            "Time for epoch 78 is 12.424732208251953 sec\n",
            "Time for epoch 79 is 12.403175830841064 sec\n",
            "Time for epoch 80 is 12.40939712524414 sec\n",
            "Time for epoch 81 is 12.408813238143921 sec\n",
            "Time for epoch 82 is 12.433783054351807 sec\n",
            "Time for epoch 83 is 12.436835527420044 sec\n",
            "Time for epoch 84 is 12.499877452850342 sec\n",
            "Time for epoch 85 is 12.543088912963867 sec\n",
            "Time for epoch 86 is 12.523710489273071 sec\n",
            "Time for epoch 87 is 12.550312042236328 sec\n",
            "Time for epoch 88 is 12.439898252487183 sec\n",
            "Time for epoch 89 is 12.415243864059448 sec\n",
            "Time for epoch 90 is 12.420238256454468 sec\n",
            "Time for epoch 91 is 12.417832136154175 sec\n",
            "Time for epoch 92 is 13.413115739822388 sec\n",
            "Time for epoch 93 is 12.405025959014893 sec\n",
            "Time for epoch 94 is 12.415571689605713 sec\n",
            "Time for epoch 95 is 12.427157640457153 sec\n",
            "Time for epoch 96 is 12.427289962768555 sec\n",
            "Time for epoch 97 is 12.42655897140503 sec\n",
            "Time for epoch 98 is 12.433351039886475 sec\n",
            "Time for epoch 99 is 12.429809331893921 sec\n",
            "Time for epoch 100 is 12.432654857635498 sec\n"
          ]
        }
      ]
    },
    {
      "cell_type": "markdown",
      "metadata": {
        "id": "3882a1d4"
      },
      "source": [
        "## Generate images\n",
        "\n",
        "### Subtask:\n",
        "Generate new handwritten digits using the trained generator model.\n"
      ]
    },
    {
      "cell_type": "markdown",
      "metadata": {
        "id": "67dcbc4b"
      },
      "source": [
        "**Reasoning**:\n",
        "Generate random noise and pass it to the trained generator to produce images.\n",
        "\n"
      ]
    },
    {
      "cell_type": "code",
      "metadata": {
        "id": "92e8fa5c"
      },
      "source": [
        "generated_images = generator(tf.random.normal([num_examples_to_generate, noise_dim]), training=False)"
      ],
      "execution_count": 13,
      "outputs": []
    },
    {
      "cell_type": "markdown",
      "metadata": {
        "id": "bb1b31e7"
      },
      "source": [
        "## Save the model\n",
        "\n",
        "### Subtask:\n",
        "Save the trained model.\n"
      ]
    },
    {
      "cell_type": "markdown",
      "metadata": {
        "id": "8dc64d48"
      },
      "source": [
        "**Reasoning**:\n",
        "Save the trained generator and discriminator models to HDF5 files.\n",
        "\n"
      ]
    },
    {
      "cell_type": "code",
      "metadata": {
        "colab": {
          "base_uri": "https://localhost:8080/"
        },
        "id": "284fc4ce",
        "outputId": "972d173d-401d-47f9-a29d-03a879485573"
      },
      "source": [
        "generator.save('generator.h5')\n",
        "discriminator.save('discriminator.h5')"
      ],
      "execution_count": 14,
      "outputs": [
        {
          "output_type": "stream",
          "name": "stderr",
          "text": [
            "WARNING:absl:You are saving your model as an HDF5 file via `model.save()` or `keras.saving.save_model(model)`. This file format is considered legacy. We recommend using instead the native Keras format, e.g. `model.save('my_model.keras')` or `keras.saving.save_model(model, 'my_model.keras')`. \n",
            "WARNING:absl:You are saving your model as an HDF5 file via `model.save()` or `keras.saving.save_model(model)`. This file format is considered legacy. We recommend using instead the native Keras format, e.g. `model.save('my_model.keras')` or `keras.saving.save_model(model, 'my_model.keras')`. \n"
          ]
        }
      ]
    },
    {
      "cell_type": "markdown",
      "metadata": {
        "id": "ad9949fd"
      },
      "source": [
        "## Visualize results\n",
        "\n",
        "### Subtask:\n",
        "Display some generated images.\n"
      ]
    },
    {
      "cell_type": "markdown",
      "metadata": {
        "id": "80c279e6"
      },
      "source": [
        "**Reasoning**:\n",
        "Use matplotlib to display the generated images in a 4x4 grid.\n",
        "\n"
      ]
    },
    {
      "cell_type": "code",
      "metadata": {
        "colab": {
          "base_uri": "https://localhost:8080/",
          "height": 345
        },
        "id": "929ad462",
        "outputId": "e5998b32-2ab9-42ae-ed67-27d753bf82b0"
      },
      "source": [
        "fig = plt.figure(figsize=(4, 4))\n",
        "for i in range(generated_images.shape[0]):\n",
        "    plt.subplot(4, 4, i+1)\n",
        "    plt.imshow(generated_images[i, :, :, 0] * 127.5 + 127.5, cmap='gray')\n",
        "    plt.axis('off')\n",
        "plt.show()"
      ],
      "execution_count": 15,
      "outputs": [
        {
          "output_type": "display_data",
          "data": {
            "text/plain": [
              "<Figure size 400x400 with 16 Axes>"
            ],
            "image/png": "[encoded data removed]"
          },
          "metadata": {}
        }
      ]
    },
    {
      "cell_type": "markdown",
      "metadata": {
        "id": "b20a9876"
      },
      "source": [
        "## Summary:\n",
        "\n",
        "### Data Analysis Key Findings\n",
        "\n",
        "*   The MNIST dataset was successfully loaded and preprocessed, including reshaping and scaling image pixel values to the range of -1 to 1.\n",
        "*   TensorFlow Sequential models were successfully defined for both the generator and discriminator networks, with appropriate layers (Dense, BatchNormalization, LeakyReLU, Reshape, Conv2DTranspose, Conv2D, Dropout, Flatten) and output shapes validated at each step for the generator.\n",
        "*   The `BinaryCrossentropy` loss function with `from_logits=True` was used for both the generator and discriminator, and the Adam optimizer with a learning rate of \\$1e-4\\$ was defined for both models.\n",
        "*   The training loop was defined, including the loss functions, the `train_step` function utilizing `tf.GradientTape` for gradient calculation and application, and a function to generate and save images periodically.\n",
        "*   The model was trained for 100 epochs, and the time taken per epoch was reported.\n",
        "*   New handwritten digits were generated using the trained generator model.\n",
        "*   The trained generator and discriminator models were saved to `.h5` files, although a warning about the format being legacy was observed.\n",
        "*   Generated images were successfully visualized using matplotlib, displayed in a 4x4 grid after rescaling the pixel values back to the 0-255 range.\n",
        "\n",
        "### Insights or Next Steps\n",
        "\n",
        "*   Consider saving the models in the recommended native Keras format (`.keras`) in the future to avoid the legacy format warning.\n",
        "*   Further analysis could involve evaluating the quality of the generated images using metrics like Inception Score or FID (Fréchet Inception Distance).\n"
      ]
    }
  ]
}